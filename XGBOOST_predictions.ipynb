{
 "cells": [
  {
   "cell_type": "code",
   "execution_count": 3,
   "id": "c8685235",
   "metadata": {},
   "outputs": [
    {
     "name": "stdout",
     "output_type": "stream",
     "text": [
      "{\n",
      "    \"120010970\": {\n",
      "        \"WEEK - 1\": 420.0,\n",
      "        \"WEEK - 2\": 720.0,\n",
      "        \"WEEK - 3\": 600.0,\n",
      "        \"WEEK - 4\": 660.0,\n",
      "        \"WEEK - 5\": 960.0,\n",
      "        \"WEEK - 6\": 942.6,\n",
      "        \"WEEK - 7\": 1380.0,\n",
      "        \"WEEK - 8\": 2400.0\n",
      "    },\n",
      "    \"120012606\": {\n",
      "        \"WEEK - 1\": 2504.0,\n",
      "        \"WEEK - 2\": 1105.0,\n",
      "        \"WEEK - 3\": 295.08,\n",
      "        \"WEEK - 4\": 155068.0,\n",
      "        \"WEEK - 5\": 2871.0,\n",
      "        \"WEEK - 6\": 2435.8,\n",
      "        \"WEEK - 7\": 732.85,\n",
      "        \"WEEK - 8\": 1082.8\n",
      "    },\n",
      "    \"120010566\": {\n",
      "        \"WEEK - 1\": 2562.0,\n",
      "        \"WEEK - 2\": 3993.0,\n",
      "        \"WEEK - 3\": 2310.0,\n",
      "        \"WEEK - 4\": 4080.0,\n",
      "        \"WEEK - 5\": 5346.0,\n",
      "        \"WEEK - 6\": 5294.0,\n",
      "        \"WEEK - 7\": 4896.0,\n",
      "        \"WEEK - 8\": 6090.0\n",
      "    },\n",
      "    \"120015842\": {\n",
      "        \"WEEK - 1\": 559.41,\n",
      "        \"WEEK - 2\": 519.41,\n",
      "        \"WEEK - 3\": 439.4,\n",
      "        \"WEEK - 4\": 439.4,\n",
      "        \"WEEK - 5\": 602.74,\n",
      "        \"WEEK - 6\": 602.74,\n",
      "        \"WEEK - 7\": 442.74,\n",
      "        \"WEEK - 8\": 602.74\n",
      "    },\n",
      "    \"120012154\": {\n",
      "        \"WEEK - 1\": 771.16,\n",
      "        \"WEEK - 2\": 572.72,\n",
      "        \"WEEK - 3\": 500.9,\n",
      "        \"WEEK - 4\": 635.89,\n",
      "        \"WEEK - 5\": 995.78,\n",
      "        \"WEEK - 6\": 1019.31,\n",
      "        \"WEEK - 7\": 2210.29,\n",
      "        \"WEEK - 8\": 1400.29\n",
      "    },\n",
      "    \"120004096\": {\n",
      "        \"WEEK - 1\": 242.42,\n",
      "        \"WEEK - 2\": 119.87,\n",
      "        \"WEEK - 3\": 122.44,\n",
      "        \"WEEK - 4\": 302.48,\n",
      "        \"WEEK - 5\": 62.5,\n",
      "        \"WEEK - 6\": 242.48,\n",
      "        \"WEEK - 7\": 2.5,\n",
      "        \"WEEK - 8\": 262.49\n",
      "    }\n",
      "}\n"
     ]
    }
   ],
   "source": [
    "import pandas as pd\n",
    "import json\n",
    "\n",
    "df = pd.read_excel('xgbooots.xlsx')\n",
    "json_data = df.to_json(orient='records')\n",
    "\n",
    "parsed_json = json.loads(json_data)\n",
    "result = {item.pop(df.columns[0]): item for item in parsed_json}\n",
    "\n",
    "print(json.dumps(result, indent=4))"
   ]
  },
  {
   "cell_type": "code",
   "execution_count": null,
   "id": "beba9013",
   "metadata": {},
   "outputs": [],
   "source": []
  }
 ],
 "metadata": {
  "kernelspec": {
   "display_name": "Python 3 (ipykernel)",
   "language": "python",
   "name": "python3"
  },
  "language_info": {
   "codemirror_mode": {
    "name": "ipython",
    "version": 3
   },
   "file_extension": ".py",
   "mimetype": "text/x-python",
   "name": "python",
   "nbconvert_exporter": "python",
   "pygments_lexer": "ipython3",
   "version": "3.9.13"
  }
 },
 "nbformat": 4,
 "nbformat_minor": 5
}
